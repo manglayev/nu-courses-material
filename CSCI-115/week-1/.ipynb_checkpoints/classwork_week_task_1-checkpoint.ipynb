{
 "cells": [
  {
   "cell_type": "markdown",
   "id": "02dcdba0",
   "metadata": {},
   "source": [
    "# CSCI115 Week 1"
   ]
  },
  {
   "cell_type": "markdown",
   "id": "47244e41",
   "metadata": {},
   "source": [
    "\n",
    "# Python Tutorial\n",
    "Welcome to this Python tutorial for beginners! In this tutorial, you will learn about variable assignments, basic math operations, input, and print functions in Python."
   ]
  },
  {
   "cell_type": "markdown",
   "id": "684dedae",
   "metadata": {},
   "source": [
    "## Python's interpreter\n",
    "Line-by-Line Execution: \n",
    "- Python's interpreter reads the code one line at a time. It starts at the top of the file and works its way down, interpreting and executing each line as it goes.\n",
    "\n",
    "Error Reporting: \n",
    "- If the interpreter encounters a syntax error or any other kind of error, it stops execution and reports the error to the user. Since it reads the code line by line, it will report the error on the line where it first encounters it."
   ]
  },
  {
   "cell_type": "markdown",
   "id": "39ad14ce",
   "metadata": {},
   "source": [
    "## 1. Variable Assignments\n",
    "- Declare the variable\n",
    "- Assign values to variables\n",
    "- Modify the value of a variable\n"
   ]
  },
  {
   "cell_type": "code",
   "execution_count": 1,
   "id": "63b8a2cf",
   "metadata": {},
   "outputs": [
    {
     "name": "stdout",
     "output_type": "stream",
     "text": [
      "x: 10\n",
      "y: 20\n",
      "Updated x: 15\n",
      "Updated y: 10\n"
     ]
    }
   ],
   "source": [
    "# 1. Assign values to variables\n",
    "x = 10\n",
    "y = 20\n",
    "print(\"x:\", x)\n",
    "print(\"y:\", y)\n",
    "\n",
    "# 2. Modify the value of a variable\n",
    "x = x + 5\n",
    "y = y - 10\n",
    "print(\"Updated x:\", x)\n",
    "print(\"Updated y:\", y)\n"
   ]
  },
  {
   "cell_type": "markdown",
   "id": "7dbac928",
   "metadata": {},
   "source": [
    "- Below is an example Python code that demonstrates variable assignments and how their values can be updated in sequential code. In this example, we will assign values to variables, update their values, perform arithmetic operations, and display the results."
   ]
  },
  {
   "cell_type": "code",
   "execution_count": 9,
   "id": "cf3f3cad",
   "metadata": {},
   "outputs": [
    {
     "name": "stdout",
     "output_type": "stream",
     "text": [
      "Initial values:\n",
      "x: 5\n",
      "y: 10\n",
      "\n",
      "Updated value of x (x + 2):\n",
      "x: 7\n",
      "\n",
      "Updated value of y (y * 3):\n",
      "y: 30\n",
      "\n",
      "Sum of updated x and y (assigned to z):\n",
      "z: 37\n",
      "\n",
      "Updated value of z (z - 4):\n",
      "z: 33\n",
      "\n",
      "Product of updated x, y, and z (assigned to w):\n",
      "w: 6930\n"
     ]
    }
   ],
   "source": [
    "# Assign initial values to variables\n",
    "x = 5\n",
    "y = 10\n",
    "print(\"Initial values:\")\n",
    "print(\"x:\", x)\n",
    "print(\"y:\", y)\n",
    "\n",
    "# Update the value of x by adding 2\n",
    "x = x + 2\n",
    "print(\"\\nUpdated value of x (x + 2):\")\n",
    "print(\"x:\", x)\n",
    "\n",
    "# Update the value of y by multiplying it by 3\n",
    "y = y * 3\n",
    "print(\"\\nUpdated value of y (y * 3):\")\n",
    "print(\"y:\", y)\n",
    "\n",
    "# Assign the sum of the updated values of x and y to a new variable, z\n",
    "z = x + y\n",
    "print(\"\\nSum of updated x and y (assigned to z):\")\n",
    "print(\"z:\", z)\n",
    "\n",
    "# Update the value of z by subtracting 4\n",
    "z = z - 4\n",
    "print(\"\\nUpdated value of z (z - 4):\")\n",
    "print(\"z:\", z)\n",
    "\n",
    "# Assign the product of the updated values of x, y, and z to a new variable, w\n",
    "w = x * y * z\n",
    "print(\"\\nProduct of updated x, y, and z (assigned to w):\")\n",
    "print(\"w:\", w)\n"
   ]
  },
  {
   "cell_type": "markdown",
   "id": "a6475e17",
   "metadata": {},
   "source": [
    "## 2. Math Operations\n",
    "- Addition\n",
    "- Subtraction\n",
    "- Multiplication\n",
    "- Division\n",
    "- Modulus\n",
    "- Exponentiation"
   ]
  },
  {
   "cell_type": "code",
   "execution_count": 2,
   "id": "a8e6fc3d",
   "metadata": {},
   "outputs": [
    {
     "name": "stdout",
     "output_type": "stream",
     "text": [
      "Addition: 8\n",
      "Subtraction: 2\n",
      "Multiplication: 15\n",
      "Division: 1.6666666666666667\n",
      "Modulus: 2\n",
      "Exponentiation: 125\n"
     ]
    }
   ],
   "source": [
    "# 1. Addition\n",
    "result = 5 + 3\n",
    "print(\"Addition:\", result)\n",
    "\n",
    "# 2. Subtraction\n",
    "result = 5 - 3\n",
    "print(\"Subtraction:\", result)\n",
    "\n",
    "# 3. Multiplication\n",
    "result = 5 * 3\n",
    "print(\"Multiplication:\", result)\n",
    "\n",
    "# 4. Division\n",
    "result = 5 / 3\n",
    "print(\"Division:\", result)\n",
    "\n",
    "# 5. Modulus / remainder \n",
    "result = 5 % 3\n",
    "print(\"Modulus:\", result)\n",
    "\n",
    "# 6. Exponentiation\n",
    "result = 5 ** 3\n",
    "print(\"Exponentiation:\", result)\n"
   ]
  },
  {
   "cell_type": "markdown",
   "id": "522267eb",
   "metadata": {},
   "source": [
    "## 3. Input and Print Functions\n",
    "- Ask the user for their \n",
    "- Greet the user with their name"
   ]
  },
  {
   "cell_type": "code",
   "execution_count": 4,
   "id": "579f7692",
   "metadata": {},
   "outputs": [
    {
     "name": "stdout",
     "output_type": "stream",
     "text": [
      "Please enter your name: minho lee\n",
      "Hello, minho lee!\n"
     ]
    }
   ],
   "source": [
    "# 1. Ask the user for their name\n",
    "name = input(\"Please enter your name: \")\n",
    "\n",
    "# 2. Greet the user with their name\n",
    "print(\"Hello,\", name + \"!\")"
   ]
  },
  {
   "cell_type": "markdown",
   "id": "fc657fc9",
   "metadata": {},
   "source": [
    "========================================================================="
   ]
  },
  {
   "cell_type": "markdown",
   "id": "493c5972",
   "metadata": {},
   "source": [
    "# Homework (1 week)"
   ]
  },
  {
   "attachments": {
    "image-2.png": {
     "image/png": "[encoded data removed]"
    }
   },
   "cell_type": "markdown",
   "id": "772ec675",
   "metadata": {},
   "source": [
    "### Task1. Ask the user for putting two numbers and then display the summation of the numbers.\n",
    "Expected output: \n",
    "![image-2.png](attachment:image-2.png)\n"
   ]
  },
  {
   "cell_type": "code",
   "execution_count": 5,
   "id": "433351bb",
   "metadata": {},
   "outputs": [
    {
     "name": "stdout",
     "output_type": "stream",
     "text": [
      "Please enter the first number: 3\n",
      "Please enter the second number: 4\n",
      "The sum of 3 and 4 is: 34\n"
     ]
    }
   ],
   "source": []
  },
  {
   "attachments": {
    "image.png": {
     "image/png": "[encoded data removed]"
    }
   },
   "cell_type": "markdown",
   "id": "9212b309",
   "metadata": {},
   "source": [
    "### Task2. Prompt the user to input the radius of a circle and then calculate and display the area of the circle.\n",
    "Expected output: \n",
    "![image.png](attachment:image.png)\n"
   ]
  },
  {
   "cell_type": "code",
   "execution_count": 6,
   "id": "1c58bc95",
   "metadata": {},
   "outputs": [
    {
     "name": "stdout",
     "output_type": "stream",
     "text": [
      "Please enter the radius of the circle: 5\n",
      "The area of the circle is: 78.53981633974483\n"
     ]
    }
   ],
   "source": []
  },
  {
   "attachments": {
    "image.png": {
     "image/png": "[encoded data removed]"
    }
   },
   "cell_type": "markdown",
   "id": "8f88ea6a",
   "metadata": {},
   "source": [
    "### Task 3. Prompt the user to input the debt amount, the rate of interest, and the time (in years). Then, calculate and display the simple interest. \n",
    "Expected output: \n",
    "![image.png](attachment:image.png)"
   ]
  },
  {
   "cell_type": "code",
   "execution_count": 7,
   "id": "c93fb769",
   "metadata": {},
   "outputs": [
    {
     "name": "stdout",
     "output_type": "stream",
     "text": [
      "Please enter the principal amount: 1000\n",
      "Please enter the rate of interest (in percentage): 5\n",
      "Please enter the time (in years): 10\n",
      "The simple interest is: 500.0\n"
     ]
    }
   ],
   "source": []
  },
  {
   "attachments": {
    "image.png": {
     "image/png": "[encoded data removed]"
    }
   },
   "cell_type": "markdown",
   "id": "2c892717",
   "metadata": {},
   "source": [
    "### Task 4. Prompt the user to input three numbers. Then, calculate and display the average of the numbers.\n",
    "Expected output: \n",
    "![image.png](attachment:image.png)"
   ]
  },
  {
   "cell_type": "code",
   "execution_count": 8,
   "id": "f3f1d44b",
   "metadata": {},
   "outputs": [
    {
     "name": "stdout",
     "output_type": "stream",
     "text": [
      "Please enter the first number: 2\n",
      "Please enter the second number: 5\n",
      "Please enter the third number: 4\n",
      "The average of the three numbers is: 3.6666666666666665\n"
     ]
    }
   ],
   "source": []
  },
  {
   "attachments": {
    "image.png": {
     "image/png": "[encoded data removed]"
    }
   },
   "cell_type": "markdown",
   "id": "cd27e360",
   "metadata": {},
   "source": [
    "### Task 5. Ask the user to enter the name, age, and hobby, then Print all the variables with proper sentence\n",
    "Expected output: \n",
    "![image.png](attachment:image.png)\n"
   ]
  },
  {
   "cell_type": "code",
   "execution_count": 10,
   "id": "4d1c3f30",
   "metadata": {},
   "outputs": [
    {
     "name": "stdout",
     "output_type": "stream",
     "text": [
      "Enter your name:MinhoLee\n",
      "Enter your age:37\n",
      "Enter your favourite hobby:Watching Movie\n",
      "Your name is MinhoLee  and you are 37  years old\n",
      "Your favourite hobby is Watching Movie\n"
     ]
    }
   ],
   "source": []
  }
 ],
 "metadata": {
  "kernelspec": {
   "display_name": "Python 3 (ipykernel)",
   "language": "python",
   "name": "python3"
  },
  "language_info": {
   "codemirror_mode": {
    "name": "ipython",
    "version": 3
   },
   "file_extension": ".py",
   "mimetype": "text/x-python",
   "name": "python",
   "nbconvert_exporter": "python",
   "pygments_lexer": "ipython3",
   "version": "3.10.9"
  }
 },
 "nbformat": 4,
 "nbformat_minor": 5
}
