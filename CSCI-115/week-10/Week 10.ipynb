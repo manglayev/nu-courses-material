{
 "cells": [
  {
   "cell_type": "markdown",
   "id": "88d60e6e-3ec2-4f67-b1f0-5f29b84bfe39",
   "metadata": {},
   "source": [
    "# Week 10: Input and Output"
   ]
  },
  {
   "cell_type": "markdown",
   "id": "44ef5bc5-bb6f-4da7-aec3-df60bd6ec70f",
   "metadata": {},
   "source": [
    "## 1. Writing Output to the Console"
   ]
  },
  {
   "cell_type": "markdown",
   "id": "e0074279-d9fe-4484-82a3-f43df914eed3",
   "metadata": {},
   "source": [
    "### 1.1 Revisiting the `print()` function\n",
    "Let's come back to `print()` function and discover more about its parameters"
   ]
  },
  {
   "cell_type": "code",
   "execution_count": 51,
   "id": "84639a19-697b-4e4a-ad5d-51e4f531961f",
   "metadata": {},
   "outputs": [
    {
     "name": "stdout",
     "output_type": "stream",
     "text": [
      "Help on built-in function print in module builtins:\n",
      "\n",
      "print(*args, sep=' ', end='\\n', file=None, flush=False)\n",
      "    Prints the values to a stream, or to sys.stdout by default.\n",
      "\n",
      "    sep\n",
      "      string inserted between values, default a space.\n",
      "    end\n",
      "      string appended after the last value, default a newline.\n",
      "    file\n",
      "      a file-like object (stream); defaults to the current sys.stdout.\n",
      "    flush\n",
      "      whether to forcibly flush the stream.\n",
      "\n"
     ]
    }
   ],
   "source": [
    "help(print)"
   ]
  },
  {
   "cell_type": "code",
   "execution_count": 52,
   "id": "cd6bf4f9-be86-410e-8d49-6998810adade",
   "metadata": {},
   "outputs": [],
   "source": [
    "a, b = 1, 2"
   ]
  },
  {
   "cell_type": "code",
   "execution_count": 53,
   "id": "cbddd8da-64bf-42ba-8dfc-bc1dc761a8dc",
   "metadata": {},
   "outputs": [
    {
     "name": "stdout",
     "output_type": "stream",
     "text": [
      "1 2\n"
     ]
    }
   ],
   "source": [
    "print(a, b)"
   ]
  },
  {
   "cell_type": "code",
   "execution_count": 54,
   "id": "5c92a3a1-0751-470b-bb20-a01cca4e2fc4",
   "metadata": {},
   "outputs": [
    {
     "name": "stdout",
     "output_type": "stream",
     "text": [
      "1,2\n"
     ]
    }
   ],
   "source": [
    "print(a, b, sep=',')"
   ]
  },
  {
   "cell_type": "code",
   "execution_count": 55,
   "id": "83f6f192-0fc1-40e2-85fd-9bb3ef19adee",
   "metadata": {},
   "outputs": [
    {
     "name": "stdout",
     "output_type": "stream",
     "text": [
      "1.\n",
      "2.\n"
     ]
    }
   ],
   "source": [
    "print(a, end='.\\n')\n",
    "print(b, end='.\\n')"
   ]
  },
  {
   "cell_type": "code",
   "execution_count": 56,
   "id": "2eeb8bc2-6bba-4a1d-89e1-59a9ed01afff",
   "metadata": {},
   "outputs": [
    {
     "name": "stdout",
     "output_type": "stream",
     "text": [
      "0, 1, 2, 3, 4, "
     ]
    }
   ],
   "source": [
    "for i in range(5):\n",
    "    print(i, end=', ')"
   ]
  },
  {
   "cell_type": "markdown",
   "id": "177aa9fb-ab85-4510-9b6f-83dd2655cdc3",
   "metadata": {},
   "source": [
    "### 1.2 Using the `format()` method of `String`\n",
    "Basic usage of the `str.format()` method looks like this:"
   ]
  },
  {
   "cell_type": "code",
   "execution_count": 57,
   "id": "ec56fe7a-d0a3-413f-999d-2cc6bfa7a1e1",
   "metadata": {},
   "outputs": [
    {
     "name": "stdout",
     "output_type": "stream",
     "text": [
      "first 1 second 2\n"
     ]
    }
   ],
   "source": [
    "print(\"first {} second {}\".format(a, b))"
   ]
  },
  {
   "cell_type": "code",
   "execution_count": 58,
   "id": "73fb5f1e-7725-40b0-bb91-a8ae7a0612ee",
   "metadata": {},
   "outputs": [
    {
     "name": "stdout",
     "output_type": "stream",
     "text": [
      "first 1 second 2\n"
     ]
    }
   ],
   "source": [
    "print(\"first {0} second {1}\".format(a, b))"
   ]
  },
  {
   "cell_type": "code",
   "execution_count": 59,
   "id": "a7f843db-5263-4e81-9d08-53aed0c948a4",
   "metadata": {},
   "outputs": [
    {
     "name": "stdout",
     "output_type": "stream",
     "text": [
      "first 2 second 1\n"
     ]
    }
   ],
   "source": [
    "print(\"first {1} second {0}\".format(a, b))"
   ]
  },
  {
   "cell_type": "markdown",
   "id": "de3bcf19-2750-4382-b883-87aefd21ed04",
   "metadata": {},
   "source": [
    "The brackets and characters within them (called format fields) are replaced with the objects passed into the str.format() method. A number in the brackets can be used to refer to the position of the object passed into the str.format() method."
   ]
  },
  {
   "cell_type": "markdown",
   "id": "01fc78c5-1929-403f-91f2-ed0ca29d4673",
   "metadata": {},
   "source": [
    "If keyword arguments are used in the str.format() method, their values are referred to by using the name of the argument."
   ]
  },
  {
   "cell_type": "markdown",
   "id": "cc30df05-bab8-4568-a6bc-220488748ca2",
   "metadata": {},
   "source": [
    "---"
   ]
  },
  {
   "cell_type": "markdown",
   "id": "cd1e6463-d8f4-4eae-a269-e4188ff9377a",
   "metadata": {},
   "source": [
    "## 2. Reading and writing files\n",
    "### 2.1 Create or Open with open()\n",
    "You need to call the [`open()`](https://docs.python.org/3/library/functions.html#open) function before you do the following:\n",
    "- Read an existing file\n",
    "- Write to a new file\n",
    "- Append to an existing file\n",
    "- Overwrite an existing file\n",
    "\n",
    "[`open()`](https://docs.python.org/3/library/functions.html#open) returns a *file object*, and is most commonly used with two positional arguments, although it has many more arguments with default values: \n",
    "```python\n",
    "fileobj = open(filename, mode)\n",
    "```\n",
    "Here’s a brief explanation of the pieces of this call:\n",
    "- `fileobj` is the file object returned by open(). It is used to read and write to a file.\n",
    "- `filename` is the string name of the file or path to a file.\n",
    "- `mode` is a string indicating the file’s type and what you want to do with it. It is a string of up to two characters.\n",
    "    -  The first letter of mode indicates the operation:\n",
    "        - 'r' when the file will only be read,\n",
    "        - 'w' for only writing (an existing file with the same name will be erased),\n",
    "        - 'a' opens the file for appending; any data written to the file is automatically added to the end.\n",
    "        - 'r+' opens the file for both reading and writing.\n",
    "    - The second letter of mode is the file’s type:\n",
    "        - `t` (or nothing) means text.\n",
    "        - `b` means binary.\n",
    "Actually, mode argument is optional; `'r'` will be assumed if it’s omitted."
   ]
  },
  {
   "cell_type": "code",
   "execution_count": 60,
   "id": "f18ad635-91bb-41a9-9b3f-93993c12d1a7",
   "metadata": {},
   "outputs": [],
   "source": [
    "f = open(\"temp.txt\", 'w')"
   ]
  },
  {
   "cell_type": "markdown",
   "id": "399890ac-5abb-4739-bd13-e7e7eaec5cba",
   "metadata": {},
   "source": [
    "Last, you need to close the file to ensure that any writes complete, and that memory is freed. "
   ]
  },
  {
   "cell_type": "code",
   "execution_count": 61,
   "id": "f231cca2-6fd4-4ddc-b875-50b44b0198e2",
   "metadata": {},
   "outputs": [],
   "source": [
    "f.close()"
   ]
  },
  {
   "cell_type": "markdown",
   "id": "a3725fa9-1927-449f-ad98-d31451bf56d9",
   "metadata": {},
   "source": [
    "### 2.2 Write a Text File with print()\n",
    "Our `print()` function can also be used to write to a file. If we call `help` on `print`, we can see that it has a keyword argument called `file` which has default value of `None`. Therefore, if we don't specify anything for `file`, `print` writes to `sys.stdout` which is read as `system's standard output` that is our `terminal` if we simply speak. \n",
    "However, if we supply `fileobj` of some open file, then we can write to this file."
   ]
  },
  {
   "cell_type": "code",
   "execution_count": 62,
   "id": "58cf88c8-3337-47c4-99cf-a8ed53850255",
   "metadata": {},
   "outputs": [
    {
     "name": "stdout",
     "output_type": "stream",
     "text": [
      "Help on built-in function print in module builtins:\n",
      "\n",
      "print(*args, sep=' ', end='\\n', file=None, flush=False)\n",
      "    Prints the values to a stream, or to sys.stdout by default.\n",
      "\n",
      "    sep\n",
      "      string inserted between values, default a space.\n",
      "    end\n",
      "      string appended after the last value, default a newline.\n",
      "    file\n",
      "      a file-like object (stream); defaults to the current sys.stdout.\n",
      "    flush\n",
      "      whether to forcibly flush the stream.\n",
      "\n"
     ]
    }
   ],
   "source": [
    "help(print)"
   ]
  },
  {
   "cell_type": "code",
   "execution_count": 63,
   "id": "30b4ecb5-2d8e-49a3-85dc-232181fa2475",
   "metadata": {},
   "outputs": [],
   "source": [
    "f = open(\"temp.txt\", 'w')\n",
    "for i in range(1, 5):\n",
    "    print(\"This is a line\", file=f)\n",
    "f.close()"
   ]
  },
  {
   "cell_type": "code",
   "execution_count": 64,
   "id": "85e1c895-f32c-465b-b59d-0d25a4e1df56",
   "metadata": {},
   "outputs": [],
   "source": [
    "f = open(\"temp.txt\", 'w')\n",
    "for i in range(1, 5):\n",
    "    print(\"This is line\", i, sep=':', end='.\\n', file=f)\n",
    "f.close()"
   ]
  },
  {
   "cell_type": "markdown",
   "id": "febbfe17-1c27-4179-9a94-827060b6f57d",
   "metadata": {},
   "source": [
    "Actually, we can use good old `print()` in a way that we used to"
   ]
  },
  {
   "cell_type": "markdown",
   "id": "175231cf-d389-4475-b3cf-43f942412cdc",
   "metadata": {},
   "source": [
    "### 2.3 Write a Text File with write()\n",
    "For our multiline data source, let’s prepare the following "
   ]
  },
  {
   "cell_type": "markdown",
   "id": "9276e1de-a2ab-4769-92c5-c8869eb7af68",
   "metadata": {},
   "source": [
    "The `write` function returns the number of bytes written. It does not add any spaces or newlines, as `print` does. As before, you can also `print` a multiline string to a text file:"
   ]
  },
  {
   "cell_type": "code",
   "execution_count": 65,
   "id": "3f9ffd18-2e46-4790-ad7f-cc40cf43643f",
   "metadata": {},
   "outputs": [],
   "source": [
    "f = open(\"temp.txt\", 'a')\n",
    "f.write(\"This is line 5!\")\n",
    "f.close()"
   ]
  },
  {
   "cell_type": "markdown",
   "id": "0eda3250-001d-4da2-953b-7ffb18d5825e",
   "metadata": {},
   "source": [
    "So, should you use write or print? As you’ve seen, by default `print` adds a space after each argument and a newline at the end. To make print work like write, pass it the following two arguments:\n",
    "- `sep` (separator, which defaults to a space, ' ')\n",
    "- `end` (end string, which defaults to a newline, '\\n')"
   ]
  },
  {
   "cell_type": "markdown",
   "id": "87e9827a-5806-41e0-9669-644fdd01057b",
   "metadata": {},
   "source": [
    "### 2.4 Read a Text File with read(), readline(), or readlines()\n",
    "You can call `read()` with no arguments to read the entire file at once."
   ]
  },
  {
   "cell_type": "code",
   "execution_count": 66,
   "id": "985fe61b-3699-4912-b52e-4e7d9bf0cb21",
   "metadata": {},
   "outputs": [
    {
     "name": "stdout",
     "output_type": "stream",
     "text": [
      "Help on built-in function read:\n",
      "\n",
      "read(size=-1, /) method of _io.TextIOWrapper instance\n",
      "    Read at most size characters from stream.\n",
      "\n",
      "    Read from underlying buffer until we have size characters or we hit EOF.\n",
      "    If size is negative or omitted, read until EOF.\n",
      "\n"
     ]
    }
   ],
   "source": [
    "f = open(\"temp.txt\", 'r')\n",
    "help(f.read)\n",
    "f.close()"
   ]
  },
  {
   "cell_type": "code",
   "execution_count": 67,
   "id": "aed2869b-f249-4101-999a-4f9b644f2e82",
   "metadata": {},
   "outputs": [
    {
     "data": {
      "text/plain": [
       "'This is line:1.\\nThis is line:2.\\nThis is line:3.\\nThis is line:4.\\nThis is line 5!'"
      ]
     },
     "execution_count": 67,
     "metadata": {},
     "output_type": "execute_result"
    }
   ],
   "source": [
    "f = open(\"temp.txt\", 'r')\n",
    "f.read()"
   ]
  },
  {
   "cell_type": "code",
   "execution_count": 68,
   "id": "83b2def1-2cf9-4af4-97e0-e7f441d1af39",
   "metadata": {},
   "outputs": [
    {
     "data": {
      "text/plain": [
       "'This '"
      ]
     },
     "execution_count": 68,
     "metadata": {},
     "output_type": "execute_result"
    }
   ],
   "source": [
    "f = open(\"temp.txt\", 'r')\n",
    "f.read(5)"
   ]
  },
  {
   "cell_type": "code",
   "execution_count": 69,
   "id": "49d48c03-cf23-4016-a592-f811fcaf7039",
   "metadata": {},
   "outputs": [
    {
     "data": {
      "text/plain": [
       "'is line:1.'"
      ]
     },
     "execution_count": 69,
     "metadata": {},
     "output_type": "execute_result"
    }
   ],
   "source": [
    "f.read(10)"
   ]
  },
  {
   "cell_type": "markdown",
   "id": "98acee55-613c-4081-b817-af61d0b618d4",
   "metadata": {},
   "source": [
    "As shown in the example that follows (be careful when doing this with large files; a gigabyte file will consume a gigabyte of memory)"
   ]
  },
  {
   "cell_type": "markdown",
   "id": "51c8a861-0443-48d9-ba0e-feac0c45453f",
   "metadata": {},
   "source": [
    "You can provide a maximum character count to limit how much `read()` returns at one time. Let’s read 10 characters at a time and append each chunk to a poem string to rebuild the original:"
   ]
  },
  {
   "cell_type": "code",
   "execution_count": 70,
   "id": "39c77dee-d0d2-41d5-9024-06b5a334a9a5",
   "metadata": {},
   "outputs": [
    {
     "name": "stdout",
     "output_type": "stream",
     "text": [
      "this is a chunk: This is li\n",
      "this is a chunk: ne:1.\n",
      "This\n",
      "this is a chunk:  is line:2\n",
      "this is a chunk: .\n",
      "This is \n",
      "this is a chunk: line:3.\n",
      "Th\n",
      "this is a chunk: is is line\n",
      "this is a chunk: :4.\n",
      "This i\n",
      "this is a chunk: s line 5!\n",
      "this is a chunk: \n",
      "This is file contents: This is line:1.\n",
      "This is line:2.\n",
      "This is line:3.\n",
      "This is line:4.\n",
      "This is line 5!\n"
     ]
    }
   ],
   "source": [
    "f = open(\"temp.txt\", 'r')\n",
    "file_contents = ''\n",
    "while True:\n",
    "    chunk = f.read(10)\n",
    "    print(\"this is a chunk:\", chunk)\n",
    "    if chunk == '':\n",
    "        break\n",
    "    file_contents += chunk\n",
    "\n",
    "print(\"This is file contents:\", file_contents)"
   ]
  },
  {
   "cell_type": "markdown",
   "id": "293b7468-48e6-48e5-b9e4-f02cef6924cf",
   "metadata": {},
   "source": [
    "After you’ve read all the way to the end, further calls to `read()` will return an empty string (''). Detecting empty string helps us to break out of the infinite loop"
   ]
  },
  {
   "cell_type": "markdown",
   "id": "b0b19f56-ccd3-4826-bf04-7ae2f71ca3b0",
   "metadata": {},
   "source": [
    "You can also read the file a line at a time by using `readline()`."
   ]
  },
  {
   "cell_type": "code",
   "execution_count": 71,
   "id": "458a2496-791d-4e66-b7e6-898f46b0e41e",
   "metadata": {},
   "outputs": [
    {
     "data": {
      "text/plain": [
       "'This is line:1.\\n'"
      ]
     },
     "execution_count": 71,
     "metadata": {},
     "output_type": "execute_result"
    }
   ],
   "source": [
    "f = open(\"temp.txt\", 'r')\n",
    "f.readline()"
   ]
  },
  {
   "cell_type": "code",
   "execution_count": 72,
   "id": "83437be3-f6b8-4478-be27-47f88d2de6cc",
   "metadata": {},
   "outputs": [
    {
     "data": {
      "text/plain": [
       "'This is line:2.\\n'"
      ]
     },
     "execution_count": 72,
     "metadata": {},
     "output_type": "execute_result"
    }
   ],
   "source": [
    "f.readline()"
   ]
  },
  {
   "cell_type": "code",
   "execution_count": 73,
   "id": "be91149f-fa5f-4e95-96da-8e6f2432844a",
   "metadata": {},
   "outputs": [
    {
     "data": {
      "text/plain": [
       "['This is line:3.\\n', 'This is line:4.\\n', 'This is line 5!']"
      ]
     },
     "execution_count": 73,
     "metadata": {},
     "output_type": "execute_result"
    }
   ],
   "source": [
    "f.readlines()"
   ]
  },
  {
   "cell_type": "markdown",
   "id": "d787adda-9318-4525-bad9-13acb349bad2",
   "metadata": {},
   "source": [
    " In this next example, we collect each line to rebuild the original:"
   ]
  },
  {
   "cell_type": "markdown",
   "id": "ef547c0d-604a-431d-96e7-0f75c5e1b855",
   "metadata": {},
   "source": [
    "The easiest way to read a text file is by using an iterator. This returns one line at a time. It’s similar to the previous example but with less code:"
   ]
  },
  {
   "cell_type": "markdown",
   "id": "35a4b81f-ed67-47ee-ba4d-4c7385c9354b",
   "metadata": {},
   "source": [
    "The readlines() call reads a line at a time, and returns a list of one-line strings."
   ]
  },
  {
   "cell_type": "markdown",
   "id": "5f43717b-779c-4602-8fb4-4354620fa89d",
   "metadata": {},
   "source": [
    "### 2.5 Close Files Automatically Using `with` Context Manager\n",
    "If you forget to close a file that you’ve opened, it will be closed by Python after it’s no longer referenced."
   ]
  },
  {
   "cell_type": "markdown",
   "id": "a09800a4-e101-49b6-925a-745e04d435f2",
   "metadata": {},
   "source": [
    "Python has context managers to clean up things such as open files. You use the form\n",
    "```python\n",
    "with expression as variable:"
   ]
  },
  {
   "cell_type": "code",
   "execution_count": 74,
   "id": "9ddcbbd5-546d-45a3-9a33-0f181dabe5d0",
   "metadata": {},
   "outputs": [
    {
     "name": "stdout",
     "output_type": "stream",
     "text": [
      "This \n",
      "is li\n"
     ]
    },
    {
     "ename": "ValueError",
     "evalue": "I/O operation on closed file.",
     "output_type": "error",
     "traceback": [
      "\u001b[1;31m---------------------------------------------------------------------------\u001b[0m",
      "\u001b[1;31mValueError\u001b[0m                                Traceback (most recent call last)",
      "Cell \u001b[1;32mIn[74], line 5\u001b[0m\n\u001b[0;32m      2\u001b[0m     \u001b[38;5;28mprint\u001b[39m(f\u001b[38;5;241m.\u001b[39mread(\u001b[38;5;241m5\u001b[39m))\n\u001b[0;32m      3\u001b[0m     \u001b[38;5;28mprint\u001b[39m(f\u001b[38;5;241m.\u001b[39mread(\u001b[38;5;241m5\u001b[39m))\n\u001b[1;32m----> 5\u001b[0m \u001b[43mf\u001b[49m\u001b[38;5;241;43m.\u001b[39;49m\u001b[43mread\u001b[49m\u001b[43m(\u001b[49m\u001b[43m)\u001b[49m\n",
      "\u001b[1;31mValueError\u001b[0m: I/O operation on closed file."
     ]
    }
   ],
   "source": [
    "with open('temp.txt', 'r') as f:\n",
    "    print(f.read(5))\n",
    "    print(f.read(5))\n",
    "        \n",
    "f.read()"
   ]
  },
  {
   "cell_type": "markdown",
   "id": "b81ef27e-80f1-4146-af98-c1cbf697aaae",
   "metadata": {},
   "source": [
    "as you can see calling `f.read()` outside of `with` raises an error since it closes the file automatically. "
   ]
  },
  {
   "cell_type": "markdown",
   "id": "d44e3eda-f3be-4d7b-8550-70fef93aeb1d",
   "metadata": {},
   "source": [
    "### 2.6 Change Position with seek()\n",
    "As you read and write, Python keeps track of where you are in the file. \n",
    "- The `tell()` function returns your current offset from the beginning of the file, in bytes. \n",
    "- The `seek()` function lets you jump to another byte offset in the file.\n",
    "This means that you don’t have to read every byte in a file to read the last one; you can seek() to the last one and just read one byte."
   ]
  },
  {
   "cell_type": "code",
   "execution_count": 75,
   "id": "5cf62a3a-996f-4ca2-ba97-bafb6c43518b",
   "metadata": {},
   "outputs": [
    {
     "name": "stdout",
     "output_type": "stream",
     "text": [
      "current position: 0\n",
      "This \n",
      "current position: 5\n",
      "is line:1.\n",
      "current position: 15\n"
     ]
    }
   ],
   "source": [
    "with open('temp.txt', 'r') as f:\n",
    "    print(\"current position:\", f.tell())\n",
    "    print(f.read(5))\n",
    "    print(\"current position:\", f.tell())\n",
    "    print(f.read(10))\n",
    "    print(\"current position:\", f.tell())"
   ]
  },
  {
   "cell_type": "code",
   "execution_count": 76,
   "id": "a8653ddb-87e2-4f4b-abdd-ce21663b5434",
   "metadata": {},
   "outputs": [
    {
     "name": "stdout",
     "output_type": "stream",
     "text": [
      "current position: 0\n",
      "current position: 10\n",
      "i\n",
      "current position: 6\n"
     ]
    }
   ],
   "source": [
    "with open('temp.txt', 'r') as f:\n",
    "    print(\"current position:\", f.tell())\n",
    "    f.seek(10)\n",
    "    print(\"current position:\", f.tell())\n",
    "    f.seek(f.tell() - 5)\n",
    "    print(f.read(1))\n",
    "    print(\"current position:\", f.tell())"
   ]
  },
  {
   "cell_type": "markdown",
   "id": "cbd4a918-e791-4b97-b4a5-c4f578a7df70",
   "metadata": {},
   "source": [
    "To change the file object’s position, use `f.seek(offset, whence)`. The position is computed from adding `offset` to a reference point; the reference point is selected by the `whence` argument. \n",
    "- A whence value of 0 measures from the beginning of the file,\n",
    "- 1 uses the current file position,\n",
    "- and 2 uses the end of the file as the reference point.\n",
    "whence can be omitted and defaults to 0, using the beginning of the file as the reference point.\n",
    "\n",
    "**Important**: non-zero `whence` should be used in binary mode."
   ]
  },
  {
   "cell_type": "markdown",
   "id": "9275e13d-5a1c-4678-b5fc-a6bff949e8b7",
   "metadata": {},
   "source": [
    "## 3. References\n",
    "1. Bill Lubanovic, \"Introducing Python,\" 2nd edition, O'reilly, [Available online](https://learning.oreilly.com/library/view/introducing-python-2nd/9781492051374/)\n",
    "2. The Python tutorial: 7. Input and Output, [https://docs.python.org/3/tutorial/inputoutput.html](https://docs.python.org/3/tutorial/inputoutput.html)"
   ]
  }
 ],
 "metadata": {
  "kernelspec": {
   "display_name": "Python 3 (ipykernel)",
   "language": "python",
   "name": "python3"
  },
  "language_info": {
   "codemirror_mode": {
    "name": "ipython",
    "version": 3
   },
   "file_extension": ".py",
   "mimetype": "text/x-python",
   "name": "python",
   "nbconvert_exporter": "python",
   "pygments_lexer": "ipython3",
   "version": "3.12.5"
  }
 },
 "nbformat": 4,
 "nbformat_minor": 5
}
